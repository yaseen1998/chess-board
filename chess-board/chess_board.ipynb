{
 "cells": [
  {
   "cell_type": "code",
   "execution_count": 1,
   "metadata": {},
   "outputs": [],
   "source": [
    "import numpy as np\n",
    "\n",
    "%matplotlib inline\n",
    "import matplotlib.pyplot as plt"
   ]
  },
  {
   "cell_type": "markdown",
   "metadata": {},
   "source": [
    "# I did strach goal"
   ]
  },
  {
   "cell_type": "code",
   "execution_count": 27,
   "metadata": {},
   "outputs": [],
   "source": [
    "class ChessBoard:\n",
    "    \n",
    "    def __init__(self):\n",
    "        self.rowChess=16\n",
    "        self.colChess=16\n",
    "        self.Red = [1,0.2,0,0.8]\n",
    "        self.Blue=[0,1,1,1]\n",
    "        self.Black = [0,0,0,0.5]\n",
    "        self.White=[1,1,1,1]\n",
    "        self.board = np.ones([self.rowChess,self.colChess,4])\n",
    "\n",
    "    def chess_table(self):\n",
    "        for i in range(len(self.board)):\n",
    "          for j in range(len(self.board[i])):\n",
    "            if j%2 != i%2 :\n",
    "              self.board[i][j]=self.Black\n",
    "    def add_red(self, row, col):\n",
    "        self.board[row,col]=self.Red\n",
    "    \n",
    "    def add_blue(self, row, col):\n",
    "       self.board[row,col]=self.Blue\n",
    "        \n",
    "    \n",
    "    def render(self):\n",
    "        plt.imshow(self.board)\n",
    "    \n",
    "    def is_under_attack(self):\n",
    "      indexBlue=[]\n",
    "      indexRed=[]\n",
    "      blueData = self.where_blue()\n",
    "      \n",
    "      for data in blueData:\n",
    "        index= []\n",
    "        result = False\n",
    "        row=int(data[0])\n",
    "        col=int(data[1])\n",
    "        for i in np.ndindex(self.rowChess,self.colChess):\n",
    "          if i[0]==row or i[1]==col or i[0]-i[1]==row-col or i[0]+i[1]==row+col:\n",
    "            if(all(self.board[i[0],i[1]]== self.Red)):\n",
    "              result = True\n",
    "              index.append([i[0],i[1]]) \n",
    "        if result:\n",
    "          indexBlue.append([row,col])\n",
    "          indexRed.append(index)\n",
    "      return(self.dangerous(indexBlue,indexRed))\n",
    "      \n",
    "      \n",
    "      \n",
    "    def where_blue(self):\n",
    "      result = []\n",
    "      for i in range(len(self.board)):\n",
    "          for j in range(len(self.board[i])): \n",
    "            if all(self.Blue == self.board[i][j]):\n",
    "              result.append([i,j])\n",
    "      return(result)\n",
    "\n",
    "    def dangerous(self,blue,red):\n",
    "      if (blue != []):\n",
    "        return(True)\n",
    "        # for i in range(len(blue)):\n",
    "        #   test=red[i]\n",
    "        #   print(f'element under the dangerous : {blue[i]} from : {red[i]}')\n",
    "      else:\n",
    "        # print('there is not under dangerous')\n",
    "        return(False)\n",
    "\n",
    "    def checkcolor(self,value):\n",
    "      value =value.lower()\n",
    "      color ={'blue':self.Blue,'red':self.Red}\n",
    "      for i in range(len(self.board)):\n",
    "          for j in range(len(self.board[i])): \n",
    "            if all(color[value] == self.board[i][j]):\n",
    "              if j%2 != i%2 :\n",
    "                self.board[i][j]=self.Black\n",
    "              else:\n",
    "                self.board[i][j]=self.White\n",
    "\n"
   ]
  },
  {
   "cell_type": "code",
   "execution_count": 28,
   "metadata": {},
   "outputs": [],
   "source": [
    "\n",
    "chess_board = ChessBoard()\n",
    "chess_board.chess_table()"
   ]
  },
  {
   "cell_type": "markdown",
   "metadata": {},
   "source": [
    "## queen under attack from horizontal\n"
   ]
  },
  {
   "cell_type": "code",
   "execution_count": 29,
   "metadata": {},
   "outputs": [
    {
     "data": {
      "image/png": "[encoded data removed]",
      "text/plain": [
       "<Figure size 432x288 with 1 Axes>"
      ]
     },
     "metadata": {
      "needs_background": "light"
     },
     "output_type": "display_data"
    }
   ],
   "source": [
    "\n",
    "chess_board.add_blue(5,6)\n",
    "chess_board.add_red(5,3)\n",
    "chess_board.render()\n",
    "assert chess_board.is_under_attack() == True"
   ]
  },
  {
   "cell_type": "markdown",
   "metadata": {},
   "source": [
    "## queen under attack from vertical"
   ]
  },
  {
   "cell_type": "code",
   "execution_count": 30,
   "metadata": {},
   "outputs": [
    {
     "data": {
      "image/png": "[encoded data removed]",
      "text/plain": [
       "<Figure size 432x288 with 1 Axes>"
      ]
     },
     "metadata": {
      "needs_background": "light"
     },
     "output_type": "display_data"
    }
   ],
   "source": [
    "chess_board.checkcolor('red')\n",
    "chess_board.add_blue(5,6)\n",
    "chess_board.add_red(0,6)\n",
    "chess_board.render()\n",
    "assert chess_board.is_under_attack() == True"
   ]
  },
  {
   "cell_type": "markdown",
   "metadata": {},
   "source": [
    "## queen under attack from diagonal"
   ]
  },
  {
   "cell_type": "code",
   "execution_count": 31,
   "metadata": {},
   "outputs": [
    {
     "data": {
      "image/png": "[encoded data removed]",
      "text/plain": [
       "<Figure size 432x288 with 1 Axes>"
      ]
     },
     "metadata": {
      "needs_background": "light"
     },
     "output_type": "display_data"
    }
   ],
   "source": [
    "chess_board.checkcolor('red')\n",
    "chess_board.add_blue(5,6)\n",
    "chess_board.add_red(11,0)\n",
    "chess_board.render()\n",
    "assert chess_board.is_under_attack() == True"
   ]
  },
  {
   "cell_type": "markdown",
   "metadata": {},
   "source": [
    "## queen not under attack give False"
   ]
  },
  {
   "cell_type": "code",
   "execution_count": 33,
   "metadata": {},
   "outputs": [
    {
     "data": {
      "image/png": "[encoded data removed]",
      "text/plain": [
       "<Figure size 432x288 with 1 Axes>"
      ]
     },
     "metadata": {
      "needs_background": "light"
     },
     "output_type": "display_data"
    }
   ],
   "source": [
    "chess_board.checkcolor('red')\n",
    "chess_board.add_blue(5,6)\n",
    "chess_board.add_red(8,1)\n",
    "chess_board.render()\n",
    "assert chess_board.is_under_attack() == False"
   ]
  }
 ],
 "metadata": {
  "interpreter": {
   "hash": "817bea2da21985029eae2aac26ba8e0235be9a45f3e96e3820667b7eafe1ff37"
  },
  "kernelspec": {
   "display_name": "Python 3.9.5 64-bit ('3.9.5': pyenv)",
   "language": "python",
   "name": "python3"
  },
  "language_info": {
   "codemirror_mode": {
    "name": "ipython",
    "version": 3
   },
   "file_extension": ".py",
   "mimetype": "text/x-python",
   "name": "python",
   "nbconvert_exporter": "python",
   "pygments_lexer": "ipython3",
   "version": "3.9.5"
  },
  "orig_nbformat": 4
 },
 "nbformat": 4,
 "nbformat_minor": 2
}
