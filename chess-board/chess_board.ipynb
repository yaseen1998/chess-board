{
 "cells": [
  {
   "cell_type": "code",
   "execution_count": 2,
   "metadata": {},
   "outputs": [],
   "source": [
    "import numpy as np\n",
    "\n",
    "%matplotlib inline\n",
    "import matplotlib.pyplot as plt"
   ]
  },
  {
   "cell_type": "code",
   "execution_count": 3,
   "metadata": {},
   "outputs": [],
   "source": [
    "class ChessBoard:\n",
    "    \n",
    "    def __init__(self):\n",
    "        self.board = np.ones([8,8,3])\n",
    "        for i in range(len(self.board)):\n",
    "          for j in range(len(self.board[i])):\n",
    "            if j%2 != i%2 :\n",
    "              self.board[i][j]=[0,0,0]\n",
    "    def add_red(self, row, col):\n",
    "        self.board[row,col]=[1,0.2,0]\n",
    "    \n",
    "    def add_blue(self, row, col):\n",
    "       self.board[row,col]=[0,1,1]\n",
    "        \n",
    "    \n",
    "    def render(self):\n",
    "        plt.imshow(self.board)\n",
    "    \n",
    "    def is_under_attack(self):\n",
    "      indexBlue=[]\n",
    "      indexRed=[]\n",
    "      blueData = self.where_blue()\n",
    "      \n",
    "      for data in blueData:\n",
    "        index= []\n",
    "        result = False\n",
    "        row=int(data[0])\n",
    "        col=int(data[1])\n",
    "        for i in np.ndindex(8,8):\n",
    "          if i[0]==row or i[1]==col or i[0]-i[1]==row-col or i[0]+i[1]==row+col:\n",
    "            if(all(self.board[i[0],i[1]]== [1,0.2,0])):\n",
    "              result = True\n",
    "              index.append([i[0],i[1]]) \n",
    "        if result:\n",
    "          indexBlue.append([row,col])\n",
    "          indexRed.append(index)\n",
    "      self.dangerous(indexBlue,indexRed)\n",
    "      \n",
    "      \n",
    "      \n",
    "    def where_blue(self):\n",
    "      result = []\n",
    "      for i in range(len(self.board)):\n",
    "          for j in range(len(self.board[i])): \n",
    "            if all([0.,1.,1.] == self.board[i][j]):\n",
    "              result.append([i,j])\n",
    "      return(result)\n",
    "\n",
    "    def dangerous(self,blue,red):\n",
    "      if (blue != []):\n",
    "        print(True)\n",
    "        print(f'element under the danger from : {blue}')\n",
    "        print(f'element under the danger : {red}')\n",
    "      else:\n",
    "        print('there is not under dangerous')"
   ]
  },
  {
   "cell_type": "code",
   "execution_count": 5,
   "metadata": {},
   "outputs": [],
   "source": [
    "chess_board = ChessBoard()"
   ]
  },
  {
   "cell_type": "code",
   "execution_count": 6,
   "metadata": {},
   "outputs": [
    {
     "data": {
      "image/png": "[encoded data removed]",
      "text/plain": [
       "<Figure size 432x288 with 1 Axes>"
      ]
     },
     "metadata": {
      "needs_background": "light"
     },
     "output_type": "display_data"
    }
   ],
   "source": [
    "chess_board.render()"
   ]
  },
  {
   "cell_type": "code",
   "execution_count": 14,
   "metadata": {},
   "outputs": [
    {
     "data": {
      "image/png": "[encoded data removed]",
      "text/plain": [
       "<Figure size 432x288 with 1 Axes>"
      ]
     },
     "metadata": {
      "needs_background": "light"
     },
     "output_type": "display_data"
    }
   ],
   "source": [
    "chess_board.add_blue(5,6)\n",
    "chess_board.add_blue(4,3)\n",
    "chess_board.render()"
   ]
  },
  {
   "cell_type": "code",
   "execution_count": 12,
   "metadata": {},
   "outputs": [
    {
     "data": {
      "image/png": "[encoded data removed]",
      "text/plain": [
       "<Figure size 432x288 with 1 Axes>"
      ]
     },
     "metadata": {
      "needs_background": "light"
     },
     "output_type": "display_data"
    }
   ],
   "source": [
    "chess_board.add_red(0,1)\n",
    "chess_board.add_red(0,6)\n",
    "chess_board.render()"
   ]
  },
  {
   "cell_type": "code",
   "execution_count": 15,
   "metadata": {},
   "outputs": [
    {
     "name": "stdout",
     "output_type": "stream",
     "text": [
      "True\n",
      "element under the dangerous : [[4, 3], [5, 6]]\n",
      "element under the dangerous from : [[[7, 0]], [[0, 1], [0, 6]]]\n"
     ]
    }
   ],
   "source": [
    "chess_board.is_under_attack()"
   ]
  }
 ],
 "metadata": {
  "interpreter": {
   "hash": "817bea2da21985029eae2aac26ba8e0235be9a45f3e96e3820667b7eafe1ff37"
  },
  "kernelspec": {
   "display_name": "Python 3.9.5 64-bit ('3.9.5': pyenv)",
   "language": "python",
   "name": "python3"
  },
  "language_info": {
   "codemirror_mode": {
    "name": "ipython",
    "version": 3
   },
   "file_extension": ".py",
   "mimetype": "text/x-python",
   "name": "python",
   "nbconvert_exporter": "python",
   "pygments_lexer": "ipython3",
   "version": "3.8.10"
  },
  "orig_nbformat": 4
 },
 "nbformat": 4,
 "nbformat_minor": 2
}
